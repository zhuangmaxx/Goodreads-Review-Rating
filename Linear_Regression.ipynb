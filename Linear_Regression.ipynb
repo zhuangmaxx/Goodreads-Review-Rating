{
  "cells": [
    {
      "cell_type": "markdown",
      "source": [
        "In this notebook we will preprocess 100k instances of the data and then train the Linear Regression model. This requires the dataset to be on google drive. Please follow README instructions if that has not already been completed."
      ],
      "metadata": {
        "id": "5S_z0WHQdVoF"
      },
      "id": "5S_z0WHQdVoF"
    },
    {
      "cell_type": "code",
      "source": [
        "from google.colab import drive\n",
        "drive.mount('/content/drive')"
      ],
      "metadata": {
        "colab": {
          "base_uri": "https://localhost:8080/"
        },
        "id": "n_jpqJzj2WEo",
        "outputId": "8c91b1cc-d182-4396-f620-47f8985d5027"
      },
      "id": "n_jpqJzj2WEo",
      "execution_count": null,
      "outputs": [
        {
          "output_type": "stream",
          "name": "stdout",
          "text": [
            "Drive already mounted at /content/drive; to attempt to forcibly remount, call drive.mount(\"/content/drive\", force_remount=True).\n"
          ]
        }
      ]
    },
    {
      "cell_type": "code",
      "execution_count": null,
      "id": "6a0a16b2",
      "metadata": {
        "id": "6a0a16b2",
        "colab": {
          "base_uri": "https://localhost:8080/"
        },
        "outputId": "1cfef71e-22a2-4c4b-b379-5d58785d451d"
      },
      "outputs": [
        {
          "output_type": "stream",
          "name": "stderr",
          "text": [
            "/usr/local/lib/python3.10/dist-packages/dask/dataframe/__init__.py:42: FutureWarning: \n",
            "Dask dataframe query planning is disabled because dask-expr is not installed.\n",
            "\n",
            "You can install it with `pip install dask[dataframe]` or `conda install dask`.\n",
            "This will raise in a future version.\n",
            "\n",
            "  warnings.warn(msg, FutureWarning)\n"
          ]
        }
      ],
      "source": [
        "import dask.dataframe as dd\n",
        "ddf = dd.read_json(\"/content/drive/MyDrive/goodreads_reviews_dedup.json\",lines=True,nrows=100000)\n",
        "df = ddf.compute()"
      ]
    },
    {
      "cell_type": "code",
      "execution_count": null,
      "id": "36ecc186",
      "metadata": {
        "id": "36ecc186",
        "colab": {
          "base_uri": "https://localhost:8080/",
          "height": 573
        },
        "outputId": "f740709f-c008-4bb4-d251-e86772f46f34"
      },
      "outputs": [
        {
          "output_type": "execute_result",
          "data": {
            "text/plain": [
              "                            user_id   book_id  \\\n",
              "0  8842281e1d1347389f2ab93d60773d4d  24375664   \n",
              "1  8842281e1d1347389f2ab93d60773d4d  18245960   \n",
              "2  8842281e1d1347389f2ab93d60773d4d   6392944   \n",
              "3  8842281e1d1347389f2ab93d60773d4d  22078596   \n",
              "4  8842281e1d1347389f2ab93d60773d4d   6644782   \n",
              "\n",
              "                          review_id  rating  \\\n",
              "0  5cd416f3efc3f944fce4ce2db2290d5e       5   \n",
              "1  dfdbb7b0eb5a7e4c26d59a937e2e5feb       5   \n",
              "2  5e212a62bced17b4dbe41150e5bb9037       3   \n",
              "3  fdd13cad0695656be99828cd75d6eb73       4   \n",
              "4  bd0df91c9d918c0e433b9ab3a9a5c451       4   \n",
              "\n",
              "                                         review_text  \\\n",
              "0  Mind blowingly cool. Best science fiction I've...   \n",
              "1  This is a special book. It started slow for ab...   \n",
              "2  I haven't read a fun mystery book in a while a...   \n",
              "3  Fun, fast paced, and disturbing tale of murder...   \n",
              "4  A fun book that gives you a sense of living in...   \n",
              "\n",
              "                       date_added                    date_updated  \\\n",
              "0  Fri Aug 25 13:55:02 -0700 2017  Mon Oct 09 08:55:59 -0700 2017   \n",
              "1  Sun Jul 30 07:44:10 -0700 2017  Wed Aug 30 00:00:26 -0700 2017   \n",
              "2  Mon Jul 24 02:48:17 -0700 2017  Sun Jul 30 09:28:03 -0700 2017   \n",
              "3  Mon Jul 24 02:33:09 -0700 2017  Sun Jul 30 10:23:54 -0700 2017   \n",
              "4  Mon Jul 24 02:28:14 -0700 2017  Thu Aug 24 00:07:20 -0700 2017   \n",
              "\n",
              "                          read_at                      started_at  n_votes  \\\n",
              "0  Sat Oct 07 00:00:00 -0700 2017  Sat Aug 26 00:00:00 -0700 2017       16   \n",
              "1  Sat Aug 26 12:05:52 -0700 2017  Tue Aug 15 13:23:18 -0700 2017       28   \n",
              "2  Tue Jul 25 00:00:00 -0700 2017  Mon Jul 24 00:00:00 -0700 2017        6   \n",
              "3  Sun Jul 30 15:42:05 -0700 2017  Tue Jul 25 00:00:00 -0700 2017       22   \n",
              "4  Sat Aug 05 00:00:00 -0700 2017  Sun Jul 30 00:00:00 -0700 2017        8   \n",
              "\n",
              "   n_comments  \n",
              "0           0  \n",
              "1           1  \n",
              "2           0  \n",
              "3           4  \n",
              "4           0  "
            ],
            "text/html": [
              "\n",
              "  <div id=\"df-6c11faa0-8b75-496c-a08c-fc6b4c0aea8d\" class=\"colab-df-container\">\n",
              "    <div>\n",
              "<style scoped>\n",
              "    .dataframe tbody tr th:only-of-type {\n",
              "        vertical-align: middle;\n",
              "    }\n",
              "\n",
              "    .dataframe tbody tr th {\n",
              "        vertical-align: top;\n",
              "    }\n",
              "\n",
              "    .dataframe thead th {\n",
              "        text-align: right;\n",
              "    }\n",
              "</style>\n",
              "<table border=\"1\" class=\"dataframe\">\n",
              "  <thead>\n",
              "    <tr style=\"text-align: right;\">\n",
              "      <th></th>\n",
              "      <th>user_id</th>\n",
              "      <th>book_id</th>\n",
              "      <th>review_id</th>\n",
              "      <th>rating</th>\n",
              "      <th>review_text</th>\n",
              "      <th>date_added</th>\n",
              "      <th>date_updated</th>\n",
              "      <th>read_at</th>\n",
              "      <th>started_at</th>\n",
              "      <th>n_votes</th>\n",
              "      <th>n_comments</th>\n",
              "    </tr>\n",
              "  </thead>\n",
              "  <tbody>\n",
              "    <tr>\n",
              "      <th>0</th>\n",
              "      <td>8842281e1d1347389f2ab93d60773d4d</td>\n",
              "      <td>24375664</td>\n",
              "      <td>5cd416f3efc3f944fce4ce2db2290d5e</td>\n",
              "      <td>5</td>\n",
              "      <td>Mind blowingly cool. Best science fiction I've...</td>\n",
              "      <td>Fri Aug 25 13:55:02 -0700 2017</td>\n",
              "      <td>Mon Oct 09 08:55:59 -0700 2017</td>\n",
              "      <td>Sat Oct 07 00:00:00 -0700 2017</td>\n",
              "      <td>Sat Aug 26 00:00:00 -0700 2017</td>\n",
              "      <td>16</td>\n",
              "      <td>0</td>\n",
              "    </tr>\n",
              "    <tr>\n",
              "      <th>1</th>\n",
              "      <td>8842281e1d1347389f2ab93d60773d4d</td>\n",
              "      <td>18245960</td>\n",
              "      <td>dfdbb7b0eb5a7e4c26d59a937e2e5feb</td>\n",
              "      <td>5</td>\n",
              "      <td>This is a special book. It started slow for ab...</td>\n",
              "      <td>Sun Jul 30 07:44:10 -0700 2017</td>\n",
              "      <td>Wed Aug 30 00:00:26 -0700 2017</td>\n",
              "      <td>Sat Aug 26 12:05:52 -0700 2017</td>\n",
              "      <td>Tue Aug 15 13:23:18 -0700 2017</td>\n",
              "      <td>28</td>\n",
              "      <td>1</td>\n",
              "    </tr>\n",
              "    <tr>\n",
              "      <th>2</th>\n",
              "      <td>8842281e1d1347389f2ab93d60773d4d</td>\n",
              "      <td>6392944</td>\n",
              "      <td>5e212a62bced17b4dbe41150e5bb9037</td>\n",
              "      <td>3</td>\n",
              "      <td>I haven't read a fun mystery book in a while a...</td>\n",
              "      <td>Mon Jul 24 02:48:17 -0700 2017</td>\n",
              "      <td>Sun Jul 30 09:28:03 -0700 2017</td>\n",
              "      <td>Tue Jul 25 00:00:00 -0700 2017</td>\n",
              "      <td>Mon Jul 24 00:00:00 -0700 2017</td>\n",
              "      <td>6</td>\n",
              "      <td>0</td>\n",
              "    </tr>\n",
              "    <tr>\n",
              "      <th>3</th>\n",
              "      <td>8842281e1d1347389f2ab93d60773d4d</td>\n",
              "      <td>22078596</td>\n",
              "      <td>fdd13cad0695656be99828cd75d6eb73</td>\n",
              "      <td>4</td>\n",
              "      <td>Fun, fast paced, and disturbing tale of murder...</td>\n",
              "      <td>Mon Jul 24 02:33:09 -0700 2017</td>\n",
              "      <td>Sun Jul 30 10:23:54 -0700 2017</td>\n",
              "      <td>Sun Jul 30 15:42:05 -0700 2017</td>\n",
              "      <td>Tue Jul 25 00:00:00 -0700 2017</td>\n",
              "      <td>22</td>\n",
              "      <td>4</td>\n",
              "    </tr>\n",
              "    <tr>\n",
              "      <th>4</th>\n",
              "      <td>8842281e1d1347389f2ab93d60773d4d</td>\n",
              "      <td>6644782</td>\n",
              "      <td>bd0df91c9d918c0e433b9ab3a9a5c451</td>\n",
              "      <td>4</td>\n",
              "      <td>A fun book that gives you a sense of living in...</td>\n",
              "      <td>Mon Jul 24 02:28:14 -0700 2017</td>\n",
              "      <td>Thu Aug 24 00:07:20 -0700 2017</td>\n",
              "      <td>Sat Aug 05 00:00:00 -0700 2017</td>\n",
              "      <td>Sun Jul 30 00:00:00 -0700 2017</td>\n",
              "      <td>8</td>\n",
              "      <td>0</td>\n",
              "    </tr>\n",
              "  </tbody>\n",
              "</table>\n",
              "</div>\n",
              "    <div class=\"colab-df-buttons\">\n",
              "\n",
              "  <div class=\"colab-df-container\">\n",
              "    <button class=\"colab-df-convert\" onclick=\"convertToInteractive('df-6c11faa0-8b75-496c-a08c-fc6b4c0aea8d')\"\n",
              "            title=\"Convert this dataframe to an interactive table.\"\n",
              "            style=\"display:none;\">\n",
              "\n",
              "  <svg xmlns=\"http://www.w3.org/2000/svg\" height=\"24px\" viewBox=\"0 -960 960 960\">\n",
              "    <path d=\"M120-120v-720h720v720H120Zm60-500h600v-160H180v160Zm220 220h160v-160H400v160Zm0 220h160v-160H400v160ZM180-400h160v-160H180v160Zm440 0h160v-160H620v160ZM180-180h160v-160H180v160Zm440 0h160v-160H620v160Z\"/>\n",
              "  </svg>\n",
              "    </button>\n",
              "\n",
              "  <style>\n",
              "    .colab-df-container {\n",
              "      display:flex;\n",
              "      gap: 12px;\n",
              "    }\n",
              "\n",
              "    .colab-df-convert {\n",
              "      background-color: #E8F0FE;\n",
              "      border: none;\n",
              "      border-radius: 50%;\n",
              "      cursor: pointer;\n",
              "      display: none;\n",
              "      fill: #1967D2;\n",
              "      height: 32px;\n",
              "      padding: 0 0 0 0;\n",
              "      width: 32px;\n",
              "    }\n",
              "\n",
              "    .colab-df-convert:hover {\n",
              "      background-color: #E2EBFA;\n",
              "      box-shadow: 0px 1px 2px rgba(60, 64, 67, 0.3), 0px 1px 3px 1px rgba(60, 64, 67, 0.15);\n",
              "      fill: #174EA6;\n",
              "    }\n",
              "\n",
              "    .colab-df-buttons div {\n",
              "      margin-bottom: 4px;\n",
              "    }\n",
              "\n",
              "    [theme=dark] .colab-df-convert {\n",
              "      background-color: #3B4455;\n",
              "      fill: #D2E3FC;\n",
              "    }\n",
              "\n",
              "    [theme=dark] .colab-df-convert:hover {\n",
              "      background-color: #434B5C;\n",
              "      box-shadow: 0px 1px 3px 1px rgba(0, 0, 0, 0.15);\n",
              "      filter: drop-shadow(0px 1px 2px rgba(0, 0, 0, 0.3));\n",
              "      fill: #FFFFFF;\n",
              "    }\n",
              "  </style>\n",
              "\n",
              "    <script>\n",
              "      const buttonEl =\n",
              "        document.querySelector('#df-6c11faa0-8b75-496c-a08c-fc6b4c0aea8d button.colab-df-convert');\n",
              "      buttonEl.style.display =\n",
              "        google.colab.kernel.accessAllowed ? 'block' : 'none';\n",
              "\n",
              "      async function convertToInteractive(key) {\n",
              "        const element = document.querySelector('#df-6c11faa0-8b75-496c-a08c-fc6b4c0aea8d');\n",
              "        const dataTable =\n",
              "          await google.colab.kernel.invokeFunction('convertToInteractive',\n",
              "                                                    [key], {});\n",
              "        if (!dataTable) return;\n",
              "\n",
              "        const docLinkHtml = 'Like what you see? Visit the ' +\n",
              "          '<a target=\"_blank\" href=https://colab.research.google.com/notebooks/data_table.ipynb>data table notebook</a>'\n",
              "          + ' to learn more about interactive tables.';\n",
              "        element.innerHTML = '';\n",
              "        dataTable['output_type'] = 'display_data';\n",
              "        await google.colab.output.renderOutput(dataTable, element);\n",
              "        const docLink = document.createElement('div');\n",
              "        docLink.innerHTML = docLinkHtml;\n",
              "        element.appendChild(docLink);\n",
              "      }\n",
              "    </script>\n",
              "  </div>\n",
              "\n",
              "\n",
              "<div id=\"df-b7675fb1-5ae3-420b-8b8f-1dd62e43668f\">\n",
              "  <button class=\"colab-df-quickchart\" onclick=\"quickchart('df-b7675fb1-5ae3-420b-8b8f-1dd62e43668f')\"\n",
              "            title=\"Suggest charts\"\n",
              "            style=\"display:none;\">\n",
              "\n",
              "<svg xmlns=\"http://www.w3.org/2000/svg\" height=\"24px\"viewBox=\"0 0 24 24\"\n",
              "     width=\"24px\">\n",
              "    <g>\n",
              "        <path d=\"M19 3H5c-1.1 0-2 .9-2 2v14c0 1.1.9 2 2 2h14c1.1 0 2-.9 2-2V5c0-1.1-.9-2-2-2zM9 17H7v-7h2v7zm4 0h-2V7h2v10zm4 0h-2v-4h2v4z\"/>\n",
              "    </g>\n",
              "</svg>\n",
              "  </button>\n",
              "\n",
              "<style>\n",
              "  .colab-df-quickchart {\n",
              "      --bg-color: #E8F0FE;\n",
              "      --fill-color: #1967D2;\n",
              "      --hover-bg-color: #E2EBFA;\n",
              "      --hover-fill-color: #174EA6;\n",
              "      --disabled-fill-color: #AAA;\n",
              "      --disabled-bg-color: #DDD;\n",
              "  }\n",
              "\n",
              "  [theme=dark] .colab-df-quickchart {\n",
              "      --bg-color: #3B4455;\n",
              "      --fill-color: #D2E3FC;\n",
              "      --hover-bg-color: #434B5C;\n",
              "      --hover-fill-color: #FFFFFF;\n",
              "      --disabled-bg-color: #3B4455;\n",
              "      --disabled-fill-color: #666;\n",
              "  }\n",
              "\n",
              "  .colab-df-quickchart {\n",
              "    background-color: var(--bg-color);\n",
              "    border: none;\n",
              "    border-radius: 50%;\n",
              "    cursor: pointer;\n",
              "    display: none;\n",
              "    fill: var(--fill-color);\n",
              "    height: 32px;\n",
              "    padding: 0;\n",
              "    width: 32px;\n",
              "  }\n",
              "\n",
              "  .colab-df-quickchart:hover {\n",
              "    background-color: var(--hover-bg-color);\n",
              "    box-shadow: 0 1px 2px rgba(60, 64, 67, 0.3), 0 1px 3px 1px rgba(60, 64, 67, 0.15);\n",
              "    fill: var(--button-hover-fill-color);\n",
              "  }\n",
              "\n",
              "  .colab-df-quickchart-complete:disabled,\n",
              "  .colab-df-quickchart-complete:disabled:hover {\n",
              "    background-color: var(--disabled-bg-color);\n",
              "    fill: var(--disabled-fill-color);\n",
              "    box-shadow: none;\n",
              "  }\n",
              "\n",
              "  .colab-df-spinner {\n",
              "    border: 2px solid var(--fill-color);\n",
              "    border-color: transparent;\n",
              "    border-bottom-color: var(--fill-color);\n",
              "    animation:\n",
              "      spin 1s steps(1) infinite;\n",
              "  }\n",
              "\n",
              "  @keyframes spin {\n",
              "    0% {\n",
              "      border-color: transparent;\n",
              "      border-bottom-color: var(--fill-color);\n",
              "      border-left-color: var(--fill-color);\n",
              "    }\n",
              "    20% {\n",
              "      border-color: transparent;\n",
              "      border-left-color: var(--fill-color);\n",
              "      border-top-color: var(--fill-color);\n",
              "    }\n",
              "    30% {\n",
              "      border-color: transparent;\n",
              "      border-left-color: var(--fill-color);\n",
              "      border-top-color: var(--fill-color);\n",
              "      border-right-color: var(--fill-color);\n",
              "    }\n",
              "    40% {\n",
              "      border-color: transparent;\n",
              "      border-right-color: var(--fill-color);\n",
              "      border-top-color: var(--fill-color);\n",
              "    }\n",
              "    60% {\n",
              "      border-color: transparent;\n",
              "      border-right-color: var(--fill-color);\n",
              "    }\n",
              "    80% {\n",
              "      border-color: transparent;\n",
              "      border-right-color: var(--fill-color);\n",
              "      border-bottom-color: var(--fill-color);\n",
              "    }\n",
              "    90% {\n",
              "      border-color: transparent;\n",
              "      border-bottom-color: var(--fill-color);\n",
              "    }\n",
              "  }\n",
              "</style>\n",
              "\n",
              "  <script>\n",
              "    async function quickchart(key) {\n",
              "      const quickchartButtonEl =\n",
              "        document.querySelector('#' + key + ' button');\n",
              "      quickchartButtonEl.disabled = true;  // To prevent multiple clicks.\n",
              "      quickchartButtonEl.classList.add('colab-df-spinner');\n",
              "      try {\n",
              "        const charts = await google.colab.kernel.invokeFunction(\n",
              "            'suggestCharts', [key], {});\n",
              "      } catch (error) {\n",
              "        console.error('Error during call to suggestCharts:', error);\n",
              "      }\n",
              "      quickchartButtonEl.classList.remove('colab-df-spinner');\n",
              "      quickchartButtonEl.classList.add('colab-df-quickchart-complete');\n",
              "    }\n",
              "    (() => {\n",
              "      let quickchartButtonEl =\n",
              "        document.querySelector('#df-b7675fb1-5ae3-420b-8b8f-1dd62e43668f button');\n",
              "      quickchartButtonEl.style.display =\n",
              "        google.colab.kernel.accessAllowed ? 'block' : 'none';\n",
              "    })();\n",
              "  </script>\n",
              "</div>\n",
              "\n",
              "    </div>\n",
              "  </div>\n"
            ],
            "application/vnd.google.colaboratory.intrinsic+json": {
              "type": "dataframe",
              "variable_name": "df",
              "summary": "{\n  \"name\": \"df\",\n  \"rows\": 100000,\n  \"fields\": [\n    {\n      \"column\": \"user_id\",\n      \"properties\": {\n        \"dtype\": \"string\",\n        \"num_unique_values\": 1865,\n        \"samples\": [\n          \"c6b7c4a2f88b4859a20a405488d2289e\",\n          \"e8a8e8152ee8def16bc90b306be7caf2\",\n          \"7420d38b90360037ad976a0c71a4bdd7\"\n        ],\n        \"semantic_type\": \"\",\n        \"description\": \"\"\n      }\n    },\n    {\n      \"column\": \"book_id\",\n      \"properties\": {\n        \"dtype\": \"number\",\n        \"std\": 10054660,\n        \"min\": 1,\n        \"max\": 36445213,\n        \"num_unique_values\": 68715,\n        \"samples\": [\n          26848106,\n          22435653,\n          13607167\n        ],\n        \"semantic_type\": \"\",\n        \"description\": \"\"\n      }\n    },\n    {\n      \"column\": \"review_id\",\n      \"properties\": {\n        \"dtype\": \"string\",\n        \"num_unique_values\": 100000,\n        \"samples\": [\n          \"306cc6815834b7c7d39a497e09b7b406\",\n          \"e70e6419b4142d8c7bbf763daadec071\",\n          \"61c61900bb7d8205e78b0c25ad92dd31\"\n        ],\n        \"semantic_type\": \"\",\n        \"description\": \"\"\n      }\n    },\n    {\n      \"column\": \"rating\",\n      \"properties\": {\n        \"dtype\": \"number\",\n        \"std\": 1,\n        \"min\": 0,\n        \"max\": 5,\n        \"num_unique_values\": 6,\n        \"samples\": [\n          5,\n          3,\n          1\n        ],\n        \"semantic_type\": \"\",\n        \"description\": \"\"\n      }\n    },\n    {\n      \"column\": \"review_text\",\n      \"properties\": {\n        \"dtype\": \"string\",\n        \"num_unique_values\": 97664,\n        \"samples\": [\n          \"The three main characters in this terrific puzzle are Jonathan, his wife Billie, and their teenage daughter Billie. In the Prologue, we get a hint about Billie's adventurous nature as she comments to Jonathan as they are watching Olive at the beach: \\\"She's going to need to grow a thicker skin or she's going to spend her whole life being too afraid to try anything.\\\" \\n In the novel, Billie has gone off hiking solo and has disappeared. As months go by, Jonathan is trying to cope with the mysterious loss when Olive begins having vivid dreams that have her convinced her mom is still alive. While Jonathan doesn't actually wish her dead, he has an interest in having her declared legally dead in order to collect insurance money. It really isn't possible to tell much about the story without spoiling it, but it is well crafted and kept me guessing until the end (although, admittedly, I am the worst at figuring things out in terms of mystery plotting). So I'll just try to convey why the experience of reading this was so enjoyable, with some examples of Ms. Brown's narrative skill. \\n Olive is revealed to be quite a sensitive teenager. She attends a pricey prep school in the Bay Area, and as she observes some girls who are a couple of years behind her in school, she \\\"wishes she could tell these girls that things get easier, but in her experience they don't...you just discover that there are even bigger, more complicated problems that you have to solve.\\\" \\n I love the way Ms. Brown describes teenaged girls, saying they \\\"...are like skittish forest creatures that dance away at your approach, snarl if you dare to confront them head-on. You need to wait, patiently, for them to come to you.\\\" \\n Brown also captures the upper-middle-class soccer moms whose daughters attend Claremont Prep with Olive. As Jonathan takes on the after-school pickup duties following Billie's exit, and is suddenly an available male, the\\\"...Claremont Moms are circling. They flutter around Jonathan, a flock of predatory birds in lululemon and boyfriend jeans.\\\" \\n Not a fast-paced action thriller by any means, but an unraveling story that was a pleasure to read. I appreciate having a copy made available by Random House/Spiegel & Grau and NetGalley in exchange for my honest review. Four enthusiastic stars.\",\n          \"See full review for A Discovery of Witches at: http://toomanybooksnotenoughshelves.w... \\n Diana Bishop is a witch not that she actually uses her powers. In fact, since her parents' horrific deaths when she was seven, she made a promise to herself that she wouldn't use her magic. Ever. But like with most promises, she breaks it and only uses her magic occasionally. However, when she's not trying to not use her magic, she is a professor of alchemy and is doing research on manuscripts in the Oxford Library. One of the manuscripts she calls, Ashmole 782, isn't just an ordinary manuscript. It's bewitched, and with a simple press of her hand to the cover, Diana undoes the spell to read inside. \\n This causes a chain reaction. Apparently, this manuscript hasn't been seen in almost a century and now Diana is being stalked by vampires, witches, and daemons that are trying to have her recall the book so that way that species can regain control of it and its secrets. The first to approach her is a vampire named Matthew, who instantly makes a connection with the witch. Much to the disdain of the other witches, daemons, and vampires, their bond grows and now it's not only a matter of getting the book from Diana, but trying to keep her to her own kind. And some will go to any lengths to do so.\",\n          \"Sharon Sala's latest is perfect for lovers of quaint down home country romances. \\n With her black leather and motorcycle, Mercy Dane might have the looks and attitude of a bad girl, but her slightly prickly exterior hides a heart of gold- as Blessings, Georgia Police Chief Lon Pittman soon discovers. \\n While drunken disputes over pigs, clashes with catty local women, debates about the way a proper young lady should behave, and a local beauty shop called the Curl Up & Dye, were a little too hokey for me, this novel might have a distinct charm for the right reader. \\n Thank you to Sourcebook Casablanca for providing this ARC in exchange for an honest review.\"\n        ],\n        \"semantic_type\": \"\",\n        \"description\": \"\"\n      }\n    },\n    {\n      \"column\": \"date_added\",\n      \"properties\": {\n        \"dtype\": \"string\",\n        \"num_unique_values\": 99838,\n        \"samples\": [\n          \"Sun Jun 20 17:18:27 -0700 2010\",\n          \"Tue Sep 09 10:29:40 -0700 2014\",\n          \"Thu Apr 21 07:50:57 -0700 2016\"\n        ],\n        \"semantic_type\": \"\",\n        \"description\": \"\"\n      }\n    },\n    {\n      \"column\": \"date_updated\",\n      \"properties\": {\n        \"dtype\": \"string\",\n        \"num_unique_values\": 98899,\n        \"samples\": [\n          \"Sun Oct 08 19:00:36 -0700 2017\",\n          \"Thu Feb 20 21:57:13 -0800 2014\",\n          \"Mon Jul 17 06:27:36 -0700 2017\"\n        ],\n        \"semantic_type\": \"\",\n        \"description\": \"\"\n      }\n    },\n    {\n      \"column\": \"read_at\",\n      \"properties\": {\n        \"dtype\": \"string\",\n        \"num_unique_values\": 35361,\n        \"samples\": [\n          \"Tue Nov 04 08:05:08 -0800 2014\",\n          \"Mon Feb 27 09:59:52 -0800 2017\",\n          \"Thu Apr 06 16:54:35 -0700 2017\"\n        ],\n        \"semantic_type\": \"\",\n        \"description\": \"\"\n      }\n    },\n    {\n      \"column\": \"started_at\",\n      \"properties\": {\n        \"dtype\": \"string\",\n        \"num_unique_values\": 5628,\n        \"samples\": [\n          \"Sat Jun 16 20:18:52 -0700 2012\",\n          \"Wed Jul 04 00:00:00 -0700 2012\",\n          \"Mon Mar 20 11:54:36 -0700 2017\"\n        ],\n        \"semantic_type\": \"\",\n        \"description\": \"\"\n      }\n    },\n    {\n      \"column\": \"n_votes\",\n      \"properties\": {\n        \"dtype\": \"number\",\n        \"std\": 6,\n        \"min\": -1,\n        \"max\": 1283,\n        \"num_unique_values\": 135,\n        \"samples\": [\n          79,\n          141,\n          266\n        ],\n        \"semantic_type\": \"\",\n        \"description\": \"\"\n      }\n    },\n    {\n      \"column\": \"n_comments\",\n      \"properties\": {\n        \"dtype\": \"number\",\n        \"std\": 1,\n        \"min\": 0,\n        \"max\": 231,\n        \"num_unique_values\": 50,\n        \"samples\": [\n          25,\n          30,\n          21\n        ],\n        \"semantic_type\": \"\",\n        \"description\": \"\"\n      }\n    }\n  ]\n}"
            }
          },
          "metadata": {},
          "execution_count": 3
        }
      ],
      "source": [
        "df.head()"
      ]
    },
    {
      "cell_type": "code",
      "execution_count": null,
      "id": "ff32451b",
      "metadata": {
        "id": "ff32451b"
      },
      "outputs": [],
      "source": [
        "import pandas as pd\n",
        "import re\n",
        "import nltk\n",
        "from nltk.corpus import stopwords\n",
        "from nltk.stem import WordNetLemmatizer\n",
        "from nltk.tokenize import word_tokenize\n",
        "import tensorflow as tf\n",
        "from tensorflow.keras.preprocessing.text import Tokenizer\n",
        "from keras.utils import pad_sequences\n",
        "from keras.models import Sequential\n",
        "from keras.layers import LSTM, Dense, Embedding, Dropout\n",
        "from sklearn.model_selection import train_test_split\n",
        "from sklearn.metrics import mean_squared_error\n",
        "import numpy as np"
      ]
    },
    {
      "cell_type": "code",
      "execution_count": null,
      "id": "80861c5d",
      "metadata": {
        "id": "80861c5d"
      },
      "outputs": [],
      "source": [
        "df = df[df['rating'] != 0]\n",
        "df.reset_index(drop=True, inplace=True)\n",
        "df = df[['review_text','rating']]"
      ]
    },
    {
      "cell_type": "code",
      "source": [
        "!pip install langdetect"
      ],
      "metadata": {
        "id": "miHgK72CCXrm",
        "colab": {
          "base_uri": "https://localhost:8080/"
        },
        "outputId": "6b209b9d-ac45-4d53-eb1c-4aa50eed5607"
      },
      "id": "miHgK72CCXrm",
      "execution_count": null,
      "outputs": [
        {
          "output_type": "stream",
          "name": "stdout",
          "text": [
            "Collecting langdetect\n",
            "  Downloading langdetect-1.0.9.tar.gz (981 kB)\n",
            "\u001b[?25l     \u001b[90m━━━━━━━━━━━━━━━━━━━━━━━━━━━━━━━━━━━━━━━━\u001b[0m \u001b[32m0.0/981.5 kB\u001b[0m \u001b[31m?\u001b[0m eta \u001b[36m-:--:--\u001b[0m\r\u001b[2K     \u001b[90m━━━━━━━━━━━━━━━━━━━━━━━━━━━━━━━━━━━━━━━━\u001b[0m \u001b[32m981.5/981.5 kB\u001b[0m \u001b[31m35.6 MB/s\u001b[0m eta \u001b[36m0:00:00\u001b[0m\n",
            "\u001b[?25h  Preparing metadata (setup.py) ... \u001b[?25l\u001b[?25hdone\n",
            "Requirement already satisfied: six in /usr/local/lib/python3.10/dist-packages (from langdetect) (1.17.0)\n",
            "Building wheels for collected packages: langdetect\n",
            "  Building wheel for langdetect (setup.py) ... \u001b[?25l\u001b[?25hdone\n",
            "  Created wheel for langdetect: filename=langdetect-1.0.9-py3-none-any.whl size=993222 sha256=9ddb65fc4131f9cb138af62ef62fb2e38008b725512f169270c6122e1bd7fd65\n",
            "  Stored in directory: /root/.cache/pip/wheels/95/03/7d/59ea870c70ce4e5a370638b5462a7711ab78fba2f655d05106\n",
            "Successfully built langdetect\n",
            "Installing collected packages: langdetect\n",
            "Successfully installed langdetect-1.0.9\n"
          ]
        }
      ]
    },
    {
      "cell_type": "code",
      "source": [
        "from langdetect import detect\n",
        "\n",
        "def is_english(text: str) -> bool:\n",
        "    try:\n",
        "        return detect(text) == 'en'\n",
        "    except:\n",
        "        return False\n",
        "\n",
        "# Apply the function to filter English reviews\n",
        "df['is_english'] = df['review_text'].apply(is_english)\n",
        "\n",
        "# Keep only English reviews\n",
        "eng_df = df[df['is_english']].copy()\n",
        "eng_df.drop(columns=['is_english'], inplace=True)\n",
        "\n",
        "print(eng_df.head())"
      ],
      "metadata": {
        "id": "MycP7RZFCKaj",
        "colab": {
          "base_uri": "https://localhost:8080/"
        },
        "outputId": "91f82693-331b-45c7-ac0b-8aef5e8aa23c"
      },
      "id": "MycP7RZFCKaj",
      "execution_count": null,
      "outputs": [
        {
          "output_type": "stream",
          "name": "stdout",
          "text": [
            "                                         review_text  rating\n",
            "0  Mind blowingly cool. Best science fiction I've...       5\n",
            "1  This is a special book. It started slow for ab...       5\n",
            "2  I haven't read a fun mystery book in a while a...       3\n",
            "3  Fun, fast paced, and disturbing tale of murder...       4\n",
            "4  A fun book that gives you a sense of living in...       4\n"
          ]
        }
      ]
    },
    {
      "cell_type": "code",
      "source": [
        "print(\"Unique Ratings in the Dataset:\")\n",
        "print(df['rating'].value_counts())"
      ],
      "metadata": {
        "id": "0X5Y747HO1pi",
        "colab": {
          "base_uri": "https://localhost:8080/"
        },
        "outputId": "e0216f47-7ac6-4987-f8d9-8651eab7f25a"
      },
      "id": "0X5Y747HO1pi",
      "execution_count": null,
      "outputs": [
        {
          "output_type": "stream",
          "name": "stdout",
          "text": [
            "Unique Ratings in the Dataset:\n",
            "rating\n",
            "4    35006\n",
            "5    28544\n",
            "3    22481\n",
            "2     7795\n",
            "1     2978\n",
            "Name: count, dtype: int64\n"
          ]
        }
      ]
    },
    {
      "cell_type": "code",
      "execution_count": null,
      "id": "6307e407",
      "metadata": {
        "id": "6307e407",
        "colab": {
          "base_uri": "https://localhost:8080/"
        },
        "outputId": "1624fb5a-dceb-4f1e-d323-60e2e72b5721"
      },
      "outputs": [
        {
          "output_type": "stream",
          "name": "stderr",
          "text": [
            "[nltk_data] Downloading package stopwords to /root/nltk_data...\n",
            "[nltk_data]   Unzipping corpora/stopwords.zip.\n",
            "[nltk_data] Downloading package punkt to /root/nltk_data...\n",
            "[nltk_data]   Unzipping tokenizers/punkt.zip.\n",
            "[nltk_data] Downloading package wordnet to /root/nltk_data...\n"
          ]
        }
      ],
      "source": [
        "#Adapted from this source: https://medium.com/@jozsef.dudas/predicting-wine-review-scores-from-text-using-lstm-bcfdbf7b4c6\n",
        "\n",
        "# Download necessary resources\n",
        "nltk.download('stopwords')\n",
        "nltk.download('punkt')\n",
        "nltk.download('wordnet')\n",
        "\n",
        "# Text preprocessing function\n",
        "def preprocess_text(text: str) -> str:\n",
        "    # Text cleaning\n",
        "    text = text.lower()\n",
        "    text = re.sub(r'[^\\w\\s]', '', text)\n",
        "\n",
        "    # Tokenization\n",
        "    tokens = word_tokenize(text)\n",
        "\n",
        "    # Stop word removal\n",
        "    stop_words = set(stopwords.words('english'))\n",
        "    tokens = [token for token in tokens if token not in stop_words]\n",
        "\n",
        "    # Lemmatization\n",
        "    lemmatizer = WordNetLemmatizer()\n",
        "    tokens = [lemmatizer.lemmatize(token) for token in tokens]\n",
        "\n",
        "    return tokens"
      ]
    },
    {
      "cell_type": "code",
      "source": [
        "print(\"Unique Ratings in the Dataset:\")\n",
        "print(df['rating'].value_counts())"
      ],
      "metadata": {
        "id": "VdQjGewiQ0pY",
        "colab": {
          "base_uri": "https://localhost:8080/"
        },
        "outputId": "6c9a5245-036b-497f-afaf-22270b29ae04"
      },
      "id": "VdQjGewiQ0pY",
      "execution_count": null,
      "outputs": [
        {
          "output_type": "stream",
          "name": "stdout",
          "text": [
            "Unique Ratings in the Dataset:\n",
            "rating\n",
            "4    35006\n",
            "5    28544\n",
            "3    22481\n",
            "2     7795\n",
            "1     2978\n",
            "Name: count, dtype: int64\n"
          ]
        }
      ]
    },
    {
      "cell_type": "code",
      "source": [
        "import nltk\n",
        "nltk.download('punkt_tab')"
      ],
      "metadata": {
        "id": "H5DXuAkV_WVd",
        "colab": {
          "base_uri": "https://localhost:8080/"
        },
        "outputId": "93952981-1433-43ff-dfb7-969b918d9f68"
      },
      "id": "H5DXuAkV_WVd",
      "execution_count": null,
      "outputs": [
        {
          "output_type": "stream",
          "name": "stderr",
          "text": [
            "[nltk_data] Downloading package punkt_tab to /root/nltk_data...\n",
            "[nltk_data]   Unzipping tokenizers/punkt_tab.zip.\n"
          ]
        },
        {
          "output_type": "execute_result",
          "data": {
            "text/plain": [
              "True"
            ]
          },
          "metadata": {},
          "execution_count": 11
        }
      ]
    },
    {
      "cell_type": "code",
      "execution_count": null,
      "id": "47a8238d",
      "metadata": {
        "id": "47a8238d"
      },
      "outputs": [],
      "source": [
        "eng_df['review_text_tokenized'] = eng_df['review_text'].apply(preprocess_text)"
      ]
    },
    {
      "cell_type": "code",
      "execution_count": null,
      "id": "038c442c",
      "metadata": {
        "id": "038c442c"
      },
      "outputs": [],
      "source": [
        "from sklearn.feature_extraction.text import TfidfVectorizer\n",
        "from sklearn.model_selection import train_test_split\n",
        "\n",
        "eng_df['review_text'] = eng_df['review_text'].astype(str)\n",
        "\n",
        "tfidf_vectorizer = TfidfVectorizer(max_features=1000)\n",
        "X_tfidf = tfidf_vectorizer.fit_transform(eng_df['review_text'])\n",
        "\n",
        "y = eng_df['rating']\n",
        "\n",
        "X_train, X_test, y_train, y_test = train_test_split(X_tfidf, y, test_size=0.2, random_state=123)"
      ]
    },
    {
      "cell_type": "code",
      "source": [
        "from sklearn.linear_model import LinearRegression\n",
        "from sklearn.metrics import mean_squared_error\n",
        "\n",
        "model = LinearRegression()\n",
        "model.fit(X_train, y_train)\n",
        "\n",
        "y_pred = model.predict(X_test)\n",
        "\n",
        "mse = mean_squared_error(y_test, y_pred)\n",
        "print(f\"Mean Squared Error: {mse}\")"
      ],
      "metadata": {
        "id": "9nv8xTYsLkuc",
        "colab": {
          "base_uri": "https://localhost:8080/"
        },
        "outputId": "343c19b8-d98b-4c42-c88b-3d43e8165290"
      },
      "id": "9nv8xTYsLkuc",
      "execution_count": null,
      "outputs": [
        {
          "output_type": "stream",
          "name": "stdout",
          "text": [
            "Mean Squared Error: 0.7264891132511109\n"
          ]
        }
      ]
    },
    {
      "cell_type": "code",
      "source": [
        "baseline_pred = [y_train.mean()] * len(y_test)\n",
        "baseline_mse = mean_squared_error(y_test, baseline_pred)\n",
        "print(f\"Baseline MSE: {baseline_mse}\")\n"
      ],
      "metadata": {
        "id": "CieM3IonNHsN",
        "colab": {
          "base_uri": "https://localhost:8080/"
        },
        "outputId": "1802d67c-1e68-40cb-9de2-345ec0e5bb2e"
      },
      "id": "CieM3IonNHsN",
      "execution_count": null,
      "outputs": [
        {
          "output_type": "stream",
          "name": "stdout",
          "text": [
            "Baseline MSE: 1.0998038157092513\n"
          ]
        }
      ]
    }
  ],
  "metadata": {
    "kernelspec": {
      "display_name": "Python 3",
      "name": "python3"
    },
    "language_info": {
      "codemirror_mode": {
        "name": "ipython",
        "version": 3
      },
      "file_extension": ".py",
      "mimetype": "text/x-python",
      "name": "python",
      "nbconvert_exporter": "python",
      "pygments_lexer": "ipython3",
      "version": "3.11.5"
    },
    "colab": {
      "provenance": [],
      "gpuType": "A100"
    },
    "accelerator": "GPU"
  },
  "nbformat": 4,
  "nbformat_minor": 5
}