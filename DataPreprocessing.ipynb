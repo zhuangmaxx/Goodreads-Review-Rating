{
  "cells": [
    {
      "cell_type": "markdown",
      "source": [
        "In this file we will load in the data, which requires the dataset to be in Google Drive as explained in the README. Then we will clean the data, preprocess, tokenize, and embed with DistilBERT. The prepared dataset will be saved as a pickle file. If on Colab, you should download the file from the contents."
      ],
      "metadata": {
        "id": "pjzfs9o0jgE2"
      },
      "id": "pjzfs9o0jgE2"
    },
    {
      "cell_type": "markdown",
      "id": "KU30kGp6vGLu",
      "metadata": {
        "id": "KU30kGp6vGLu"
      },
      "source": [
        "## Load Data"
      ]
    },
    {
      "cell_type": "code",
      "execution_count": null,
      "id": "fab9a8d4-620d-4a33-91c4-29316be53032",
      "metadata": {
        "id": "fab9a8d4-620d-4a33-91c4-29316be53032"
      },
      "outputs": [],
      "source": [
        "import pandas as pd\n",
        "import json"
      ]
    },
    {
      "cell_type": "code",
      "execution_count": null,
      "id": "821d5871-8bbb-4590-99f3-c83bb4bb2b0e",
      "metadata": {
        "colab": {
          "base_uri": "https://localhost:8080/"
        },
        "id": "821d5871-8bbb-4590-99f3-c83bb4bb2b0e",
        "outputId": "d0f13a9a-203d-4ccf-ff3d-353ce962e825"
      },
      "outputs": [
        {
          "output_type": "stream",
          "name": "stdout",
          "text": [
            "Drive already mounted at /content/drive; to attempt to forcibly remount, call drive.mount(\"/content/drive\", force_remount=True).\n"
          ]
        }
      ],
      "source": [
        "from google.colab import drive\n",
        "drive.mount('/content/drive')"
      ]
    },
    {
      "cell_type": "code",
      "execution_count": null,
      "id": "52b63de5-2e08-4404-9c63-b861365aae87",
      "metadata": {
        "colab": {
          "base_uri": "https://localhost:8080/"
        },
        "id": "52b63de5-2e08-4404-9c63-b861365aae87",
        "outputId": "b12d31aa-e81a-4d0f-e030-2bbad5bb2e00"
      },
      "outputs": [
        {
          "output_type": "stream",
          "name": "stderr",
          "text": [
            "<ipython-input-3-d463d2dca3d0>:21: FutureWarning: Passing literal json to 'read_json' is deprecated and will be removed in a future version. To read from a literal string, wrap it in a 'StringIO' object.\n",
            "  df = pd.read_json(cleaned_data, lines=True)\n"
          ]
        }
      ],
      "source": [
        "#pre-proccessing json file to get rid of invalid formatted review\n",
        "file_path = '/content/drive/My Drive/goodreads_reviews_dedup.json'\n",
        "#file_path = 'goodreads_reviews_dedup.json'\n",
        "\n",
        "removed_lines_count = 0\n",
        "valid_lines = []\n",
        "max_lines = 100000\n",
        "\n",
        "with open(file_path, 'r') as file:\n",
        "    for line in file:\n",
        "        if line.strip():\n",
        "            try:\n",
        "                json.loads(line)  # Check if the line is valid JSON\n",
        "                valid_lines.append(line)\n",
        "                if len(valid_lines) >= max_lines:  # Stop after 10,000 lines\n",
        "                    break\n",
        "            except json.JSONDecodeError:\n",
        "                removed_lines_count += 1\n",
        "\n",
        "cleaned_data = ''.join(valid_lines)\n",
        "df = pd.read_json(cleaned_data, lines=True)"
      ]
    },
    {
      "cell_type": "code",
      "execution_count": null,
      "id": "e3dcb73c",
      "metadata": {
        "colab": {
          "base_uri": "https://localhost:8080/",
          "height": 553
        },
        "id": "e3dcb73c",
        "outputId": "8449761c-19dc-4691-bae0-73c57f012717"
      },
      "outputs": [
        {
          "data": {
            "text/html": [
              "<div>\n",
              "<style scoped>\n",
              "    .dataframe tbody tr th:only-of-type {\n",
              "        vertical-align: middle;\n",
              "    }\n",
              "\n",
              "    .dataframe tbody tr th {\n",
              "        vertical-align: top;\n",
              "    }\n",
              "\n",
              "    .dataframe thead th {\n",
              "        text-align: right;\n",
              "    }\n",
              "</style>\n",
              "<table border=\"1\" class=\"dataframe\">\n",
              "  <thead>\n",
              "    <tr style=\"text-align: right;\">\n",
              "      <th></th>\n",
              "      <th>user_id</th>\n",
              "      <th>book_id</th>\n",
              "      <th>review_id</th>\n",
              "      <th>rating</th>\n",
              "      <th>review_text</th>\n",
              "      <th>date_added</th>\n",
              "      <th>date_updated</th>\n",
              "      <th>read_at</th>\n",
              "      <th>started_at</th>\n",
              "      <th>n_votes</th>\n",
              "      <th>n_comments</th>\n",
              "    </tr>\n",
              "  </thead>\n",
              "  <tbody>\n",
              "    <tr>\n",
              "      <th>0</th>\n",
              "      <td>8842281e1d1347389f2ab93d60773d4d</td>\n",
              "      <td>24375664</td>\n",
              "      <td>5cd416f3efc3f944fce4ce2db2290d5e</td>\n",
              "      <td>5</td>\n",
              "      <td>Mind blowingly cool. Best science fiction I've...</td>\n",
              "      <td>Fri Aug 25 13:55:02 -0700 2017</td>\n",
              "      <td>Mon Oct 09 08:55:59 -0700 2017</td>\n",
              "      <td>Sat Oct 07 00:00:00 -0700 2017</td>\n",
              "      <td>Sat Aug 26 00:00:00 -0700 2017</td>\n",
              "      <td>16</td>\n",
              "      <td>0</td>\n",
              "    </tr>\n",
              "    <tr>\n",
              "      <th>1</th>\n",
              "      <td>8842281e1d1347389f2ab93d60773d4d</td>\n",
              "      <td>18245960</td>\n",
              "      <td>dfdbb7b0eb5a7e4c26d59a937e2e5feb</td>\n",
              "      <td>5</td>\n",
              "      <td>This is a special book. It started slow for ab...</td>\n",
              "      <td>Sun Jul 30 07:44:10 -0700 2017</td>\n",
              "      <td>Wed Aug 30 00:00:26 -0700 2017</td>\n",
              "      <td>Sat Aug 26 12:05:52 -0700 2017</td>\n",
              "      <td>Tue Aug 15 13:23:18 -0700 2017</td>\n",
              "      <td>28</td>\n",
              "      <td>1</td>\n",
              "    </tr>\n",
              "    <tr>\n",
              "      <th>2</th>\n",
              "      <td>8842281e1d1347389f2ab93d60773d4d</td>\n",
              "      <td>6392944</td>\n",
              "      <td>5e212a62bced17b4dbe41150e5bb9037</td>\n",
              "      <td>3</td>\n",
              "      <td>I haven't read a fun mystery book in a while a...</td>\n",
              "      <td>Mon Jul 24 02:48:17 -0700 2017</td>\n",
              "      <td>Sun Jul 30 09:28:03 -0700 2017</td>\n",
              "      <td>Tue Jul 25 00:00:00 -0700 2017</td>\n",
              "      <td>Mon Jul 24 00:00:00 -0700 2017</td>\n",
              "      <td>6</td>\n",
              "      <td>0</td>\n",
              "    </tr>\n",
              "    <tr>\n",
              "      <th>3</th>\n",
              "      <td>8842281e1d1347389f2ab93d60773d4d</td>\n",
              "      <td>22078596</td>\n",
              "      <td>fdd13cad0695656be99828cd75d6eb73</td>\n",
              "      <td>4</td>\n",
              "      <td>Fun, fast paced, and disturbing tale of murder...</td>\n",
              "      <td>Mon Jul 24 02:33:09 -0700 2017</td>\n",
              "      <td>Sun Jul 30 10:23:54 -0700 2017</td>\n",
              "      <td>Sun Jul 30 15:42:05 -0700 2017</td>\n",
              "      <td>Tue Jul 25 00:00:00 -0700 2017</td>\n",
              "      <td>22</td>\n",
              "      <td>4</td>\n",
              "    </tr>\n",
              "    <tr>\n",
              "      <th>4</th>\n",
              "      <td>8842281e1d1347389f2ab93d60773d4d</td>\n",
              "      <td>6644782</td>\n",
              "      <td>bd0df91c9d918c0e433b9ab3a9a5c451</td>\n",
              "      <td>4</td>\n",
              "      <td>A fun book that gives you a sense of living in...</td>\n",
              "      <td>Mon Jul 24 02:28:14 -0700 2017</td>\n",
              "      <td>Thu Aug 24 00:07:20 -0700 2017</td>\n",
              "      <td>Sat Aug 05 00:00:00 -0700 2017</td>\n",
              "      <td>Sun Jul 30 00:00:00 -0700 2017</td>\n",
              "      <td>8</td>\n",
              "      <td>0</td>\n",
              "    </tr>\n",
              "  </tbody>\n",
              "</table>\n",
              "</div>"
            ],
            "text/plain": [
              "                            user_id   book_id  \\\n",
              "0  8842281e1d1347389f2ab93d60773d4d  24375664   \n",
              "1  8842281e1d1347389f2ab93d60773d4d  18245960   \n",
              "2  8842281e1d1347389f2ab93d60773d4d   6392944   \n",
              "3  8842281e1d1347389f2ab93d60773d4d  22078596   \n",
              "4  8842281e1d1347389f2ab93d60773d4d   6644782   \n",
              "\n",
              "                          review_id  rating  \\\n",
              "0  5cd416f3efc3f944fce4ce2db2290d5e       5   \n",
              "1  dfdbb7b0eb5a7e4c26d59a937e2e5feb       5   \n",
              "2  5e212a62bced17b4dbe41150e5bb9037       3   \n",
              "3  fdd13cad0695656be99828cd75d6eb73       4   \n",
              "4  bd0df91c9d918c0e433b9ab3a9a5c451       4   \n",
              "\n",
              "                                         review_text  \\\n",
              "0  Mind blowingly cool. Best science fiction I've...   \n",
              "1  This is a special book. It started slow for ab...   \n",
              "2  I haven't read a fun mystery book in a while a...   \n",
              "3  Fun, fast paced, and disturbing tale of murder...   \n",
              "4  A fun book that gives you a sense of living in...   \n",
              "\n",
              "                       date_added                    date_updated  \\\n",
              "0  Fri Aug 25 13:55:02 -0700 2017  Mon Oct 09 08:55:59 -0700 2017   \n",
              "1  Sun Jul 30 07:44:10 -0700 2017  Wed Aug 30 00:00:26 -0700 2017   \n",
              "2  Mon Jul 24 02:48:17 -0700 2017  Sun Jul 30 09:28:03 -0700 2017   \n",
              "3  Mon Jul 24 02:33:09 -0700 2017  Sun Jul 30 10:23:54 -0700 2017   \n",
              "4  Mon Jul 24 02:28:14 -0700 2017  Thu Aug 24 00:07:20 -0700 2017   \n",
              "\n",
              "                          read_at                      started_at  n_votes  \\\n",
              "0  Sat Oct 07 00:00:00 -0700 2017  Sat Aug 26 00:00:00 -0700 2017       16   \n",
              "1  Sat Aug 26 12:05:52 -0700 2017  Tue Aug 15 13:23:18 -0700 2017       28   \n",
              "2  Tue Jul 25 00:00:00 -0700 2017  Mon Jul 24 00:00:00 -0700 2017        6   \n",
              "3  Sun Jul 30 15:42:05 -0700 2017  Tue Jul 25 00:00:00 -0700 2017       22   \n",
              "4  Sat Aug 05 00:00:00 -0700 2017  Sun Jul 30 00:00:00 -0700 2017        8   \n",
              "\n",
              "   n_comments  \n",
              "0           0  \n",
              "1           1  \n",
              "2           0  \n",
              "3           4  \n",
              "4           0  "
            ]
          },
          "execution_count": 3,
          "metadata": {},
          "output_type": "execute_result"
        }
      ],
      "source": [
        "df.head()"
      ]
    },
    {
      "cell_type": "code",
      "execution_count": null,
      "id": "3aa050a8-80b7-4094-9124-1abe5b8afe39",
      "metadata": {
        "colab": {
          "base_uri": "https://localhost:8080/"
        },
        "id": "3aa050a8-80b7-4094-9124-1abe5b8afe39",
        "outputId": "4a34ed23-dd39-4661-b004-8a5bd0c2ae5d"
      },
      "outputs": [
        {
          "output_type": "stream",
          "name": "stdout",
          "text": [
            "0\n"
          ]
        }
      ],
      "source": [
        "print(removed_lines_count)"
      ]
    },
    {
      "cell_type": "code",
      "execution_count": null,
      "id": "ac728774-d32d-4545-a506-7549f4144774",
      "metadata": {
        "colab": {
          "base_uri": "https://localhost:8080/"
        },
        "id": "ac728774-d32d-4545-a506-7549f4144774",
        "outputId": "e509f2b0-6eb1-4b37-d28b-9747b362e120"
      },
      "outputs": [
        {
          "output_type": "execute_result",
          "data": {
            "text/plain": [
              "(100000, 11)"
            ]
          },
          "metadata": {},
          "execution_count": 15
        }
      ],
      "source": [
        "df.shape"
      ]
    },
    {
      "cell_type": "markdown",
      "id": "vecaDfLNvKbG",
      "metadata": {
        "id": "vecaDfLNvKbG"
      },
      "source": [
        "## Pre-Processing"
      ]
    },
    {
      "cell_type": "code",
      "execution_count": null,
      "id": "598445fe",
      "metadata": {
        "colab": {
          "base_uri": "https://localhost:8080/",
          "height": 206
        },
        "id": "598445fe",
        "outputId": "79119808-3d27-4136-9371-013cf36fb43d"
      },
      "outputs": [
        {
          "data": {
            "text/html": [
              "<div>\n",
              "<style scoped>\n",
              "    .dataframe tbody tr th:only-of-type {\n",
              "        vertical-align: middle;\n",
              "    }\n",
              "\n",
              "    .dataframe tbody tr th {\n",
              "        vertical-align: top;\n",
              "    }\n",
              "\n",
              "    .dataframe thead th {\n",
              "        text-align: right;\n",
              "    }\n",
              "</style>\n",
              "<table border=\"1\" class=\"dataframe\">\n",
              "  <thead>\n",
              "    <tr style=\"text-align: right;\">\n",
              "      <th></th>\n",
              "      <th>review_text</th>\n",
              "      <th>rating</th>\n",
              "    </tr>\n",
              "  </thead>\n",
              "  <tbody>\n",
              "    <tr>\n",
              "      <th>0</th>\n",
              "      <td>Mind blowingly cool. Best science fiction I've...</td>\n",
              "      <td>5</td>\n",
              "    </tr>\n",
              "    <tr>\n",
              "      <th>1</th>\n",
              "      <td>This is a special book. It started slow for ab...</td>\n",
              "      <td>5</td>\n",
              "    </tr>\n",
              "    <tr>\n",
              "      <th>2</th>\n",
              "      <td>I haven't read a fun mystery book in a while a...</td>\n",
              "      <td>3</td>\n",
              "    </tr>\n",
              "    <tr>\n",
              "      <th>3</th>\n",
              "      <td>Fun, fast paced, and disturbing tale of murder...</td>\n",
              "      <td>4</td>\n",
              "    </tr>\n",
              "    <tr>\n",
              "      <th>4</th>\n",
              "      <td>A fun book that gives you a sense of living in...</td>\n",
              "      <td>4</td>\n",
              "    </tr>\n",
              "  </tbody>\n",
              "</table>\n",
              "</div>"
            ],
            "text/plain": [
              "                                         review_text  rating\n",
              "0  Mind blowingly cool. Best science fiction I've...       5\n",
              "1  This is a special book. It started slow for ab...       5\n",
              "2  I haven't read a fun mystery book in a while a...       3\n",
              "3  Fun, fast paced, and disturbing tale of murder...       4\n",
              "4  A fun book that gives you a sense of living in...       4"
            ]
          },
          "execution_count": 9,
          "metadata": {},
          "output_type": "execute_result"
        }
      ],
      "source": [
        "#data cleaning\n",
        "df = df[df['rating'] != 0] #drop ratings of 0\n",
        "df.reset_index(drop=True, inplace=True)\n",
        "df = df[['review_text','rating']] #isolate columns we need\n",
        "df.head()"
      ]
    },
    {
      "cell_type": "code",
      "execution_count": null,
      "id": "a1e234e6-90e5-48db-b1bf-1e06b5d20ac1",
      "metadata": {
        "colab": {
          "base_uri": "https://localhost:8080/"
        },
        "id": "a1e234e6-90e5-48db-b1bf-1e06b5d20ac1",
        "outputId": "7ca64642-fc0d-4bdf-8446-f4a5c557383c"
      },
      "outputs": [
        {
          "name": "stdout",
          "output_type": "stream",
          "text": [
            "review_text    0\n",
            "rating         0\n",
            "dtype: int64\n"
          ]
        }
      ],
      "source": [
        "#check for any missing values in our dataset\n",
        "null_val = df.isnull().sum()\n",
        "print(null_val)"
      ]
    },
    {
      "cell_type": "code",
      "execution_count": null,
      "id": "238f08d5-45a3-4ed7-a085-ec03505e31d4",
      "metadata": {
        "colab": {
          "base_uri": "https://localhost:8080/"
        },
        "id": "238f08d5-45a3-4ed7-a085-ec03505e31d4",
        "outputId": "8f35100b-bbc3-44bd-e9dc-056d1e10d067"
      },
      "outputs": [
        {
          "data": {
            "text/plain": [
              "(96804, 2)"
            ]
          },
          "execution_count": 11,
          "metadata": {},
          "output_type": "execute_result"
        }
      ],
      "source": [
        "df.shape"
      ]
    },
    {
      "cell_type": "code",
      "execution_count": null,
      "id": "a662eb21-b46b-4a69-8864-2d1dd3c3a568",
      "metadata": {
        "id": "a662eb21-b46b-4a69-8864-2d1dd3c3a568"
      },
      "outputs": [],
      "source": [
        "eng_df = df"
      ]
    },
    {
      "cell_type": "code",
      "execution_count": null,
      "id": "1d6BYb6vNg04",
      "metadata": {
        "colab": {
          "base_uri": "https://localhost:8080/"
        },
        "id": "1d6BYb6vNg04",
        "outputId": "7b2c76a1-e848-427f-aff9-853c335d175d"
      },
      "outputs": [
        {
          "name": "stdout",
          "output_type": "stream",
          "text": [
            "\u001b[33mWARNING: Ignoring invalid distribution ~ensorflow (/ext3/miniconda3/lib/python3.12/site-packages)\u001b[0m\u001b[33m\n",
            "\u001b[0m\u001b[33mWARNING: Ignoring invalid distribution ~ensorflow (/ext3/miniconda3/lib/python3.12/site-packages)\u001b[0m\u001b[33m\n",
            "\u001b[0mRequirement already satisfied: langdetect in /ext3/miniconda3/lib/python3.12/site-packages (1.0.9)\n",
            "Requirement already satisfied: six in /ext3/miniconda3/lib/python3.12/site-packages (from langdetect) (1.16.0)\n",
            "\u001b[33mWARNING: Ignoring invalid distribution ~ensorflow (/ext3/miniconda3/lib/python3.12/site-packages)\u001b[0m\u001b[33m\n",
            "\u001b[0m\u001b[33mWARNING: Ignoring invalid distribution ~ensorflow (/ext3/miniconda3/lib/python3.12/site-packages)\u001b[0m\u001b[33m\n",
            "\u001b[0m\u001b[33mWARNING: Ignoring invalid distribution ~ensorflow (/ext3/miniconda3/lib/python3.12/site-packages)\u001b[0m\u001b[33m\n",
            "\u001b[0m\u001b[33mWARNING: Ignoring invalid distribution ~ensorflow (/ext3/miniconda3/lib/python3.12/site-packages)\u001b[0m\u001b[33m\n",
            "\u001b[0m"
          ]
        }
      ],
      "source": [
        "!pip install langdetect"
      ]
    },
    {
      "cell_type": "code",
      "execution_count": null,
      "id": "Caa44KyTNJNN",
      "metadata": {
        "id": "Caa44KyTNJNN"
      },
      "outputs": [],
      "source": [
        "from langdetect import detect\n",
        "\n",
        "# Function to detect language\n",
        "def is_english(text: str) -> bool:\n",
        "    try:\n",
        "        return detect(text) == 'en'\n",
        "    except:\n",
        "        return False  # Return False for invalid text input or errors"
      ]
    },
    {
      "cell_type": "code",
      "execution_count": null,
      "id": "E1wbmU6XOPzs",
      "metadata": {
        "id": "E1wbmU6XOPzs"
      },
      "outputs": [],
      "source": [
        "# Apply the function to filter English reviews\n",
        "df['is_english'] = df['review_text'].apply(is_english)"
      ]
    },
    {
      "cell_type": "code",
      "execution_count": null,
      "id": "vfgMbw22ORfc",
      "metadata": {
        "colab": {
          "base_uri": "https://localhost:8080/"
        },
        "id": "vfgMbw22ORfc",
        "outputId": "1085be53-83b6-49f7-fa9a-7a90c64af1fe"
      },
      "outputs": [
        {
          "name": "stdout",
          "output_type": "stream",
          "text": [
            "                                         review_text  rating\n",
            "0  Mind blowingly cool. Best science fiction I've...       5\n",
            "1  This is a special book. It started slow for ab...       5\n",
            "2  I haven't read a fun mystery book in a while a...       3\n",
            "3  Fun, fast paced, and disturbing tale of murder...       4\n",
            "4  A fun book that gives you a sense of living in...       4\n"
          ]
        }
      ],
      "source": [
        "# Keep only English reviews\n",
        "eng_df = df[df['is_english']].copy()\n",
        "\n",
        "# Drop the helper column if not needed\n",
        "eng_df.drop(columns=['is_english'], inplace=True)\n",
        "\n",
        "# Example output\n",
        "print(eng_df.head())"
      ]
    },
    {
      "cell_type": "code",
      "execution_count": null,
      "id": "Lx5SAuMbQBuP",
      "metadata": {
        "colab": {
          "base_uri": "https://localhost:8080/"
        },
        "id": "Lx5SAuMbQBuP",
        "outputId": "fdfe7076-865a-42c2-a5f3-6d6c28ebb037"
      },
      "outputs": [
        {
          "data": {
            "text/plain": [
              "(936, 2)"
            ]
          },
          "execution_count": 12,
          "metadata": {},
          "output_type": "execute_result"
        }
      ],
      "source": [
        "eng_df.shape"
      ]
    },
    {
      "cell_type": "markdown",
      "id": "YzUuXWpFzuKn",
      "metadata": {
        "id": "YzUuXWpFzuKn"
      },
      "source": [
        "## Class Balancing"
      ]
    },
    {
      "cell_type": "code",
      "execution_count": null,
      "id": "0e6b1a07-f7ff-44b6-8ba8-f20249ddc46b",
      "metadata": {
        "colab": {
          "base_uri": "https://localhost:8080/"
        },
        "id": "0e6b1a07-f7ff-44b6-8ba8-f20249ddc46b",
        "outputId": "6ad37065-b5db-4b23-e0fb-4d62db7fb3a8"
      },
      "outputs": [
        {
          "name": "stdout",
          "output_type": "stream",
          "text": [
            "rating\n",
            "4    3608\n",
            "5    3047\n",
            "3    2033\n",
            "2     680\n",
            "1     249\n",
            "Name: count, dtype: int64\n"
          ]
        }
      ],
      "source": [
        "#class balancing\n",
        "current_bal = df['rating'].value_counts()\n",
        "print(current_bal)"
      ]
    },
    {
      "cell_type": "code",
      "execution_count": null,
      "id": "5b0fc96e-d23c-4a8a-9ef9-3499d888133b",
      "metadata": {
        "id": "5b0fc96e-d23c-4a8a-9ef9-3499d888133b"
      },
      "outputs": [],
      "source": [
        "# we can see that most ratings are 4 or 5\n",
        "#combination of over/under sampling\n",
        "rating_size = 100000\n",
        "df_bal = pd.concat([\n",
        "    df[df['rating'] == rating].sample(rating_size, replace=(count < rating_size), random_state=42)\n",
        "    for rating, count in df['rating'].value_counts().items()])"
      ]
    },
    {
      "cell_type": "code",
      "execution_count": null,
      "id": "d67853f1-a393-4c7d-a9aa-6de7bac79f00",
      "metadata": {
        "id": "d67853f1-a393-4c7d-a9aa-6de7bac79f00",
        "outputId": "cceaa38d-5813-4e92-c2bf-c2399087f1bb"
      },
      "outputs": [
        {
          "name": "stdout",
          "output_type": "stream",
          "text": [
            "rating\n",
            "1    100000\n",
            "3    100000\n",
            "2    100000\n",
            "4    100000\n",
            "5    100000\n",
            "Name: count, dtype: int64\n",
            "(500000, 2)\n"
          ]
        }
      ],
      "source": [
        "#new value counts\n",
        "df_bal = df_bal.sample(frac=1, random_state=42).reset_index(drop=True) #shuffle\n",
        "new_bal = df_bal['rating'].value_counts()\n",
        "print(new_bal)\n",
        "print(df_bal.shape)"
      ]
    },
    {
      "cell_type": "code",
      "execution_count": null,
      "id": "ca0dd3af-70b1-473d-81f1-9932d7830aea",
      "metadata": {
        "id": "ca0dd3af-70b1-473d-81f1-9932d7830aea",
        "outputId": "178db9b8-0968-426c-93b0-885b326d86dd"
      },
      "outputs": [
        {
          "data": {
            "text/html": [
              "<div>\n",
              "<style scoped>\n",
              "    .dataframe tbody tr th:only-of-type {\n",
              "        vertical-align: middle;\n",
              "    }\n",
              "\n",
              "    .dataframe tbody tr th {\n",
              "        vertical-align: top;\n",
              "    }\n",
              "\n",
              "    .dataframe thead th {\n",
              "        text-align: right;\n",
              "    }\n",
              "</style>\n",
              "<table border=\"1\" class=\"dataframe\">\n",
              "  <thead>\n",
              "    <tr style=\"text-align: right;\">\n",
              "      <th></th>\n",
              "      <th>review_text</th>\n",
              "      <th>rating</th>\n",
              "    </tr>\n",
              "  </thead>\n",
              "  <tbody>\n",
              "    <tr>\n",
              "      <th>0</th>\n",
              "      <td>Firstly, I stopped reading on page 76. This is...</td>\n",
              "      <td>1</td>\n",
              "    </tr>\n",
              "    <tr>\n",
              "      <th>1</th>\n",
              "      <td>Can't really say I've enjoyed this book much -...</td>\n",
              "      <td>3</td>\n",
              "    </tr>\n",
              "    <tr>\n",
              "      <th>2</th>\n",
              "      <td>This one simply was just not for me. The writi...</td>\n",
              "      <td>2</td>\n",
              "    </tr>\n",
              "    <tr>\n",
              "      <th>3</th>\n",
              "      <td>I read this short story because I thought I ha...</td>\n",
              "      <td>3</td>\n",
              "    </tr>\n",
              "    <tr>\n",
              "      <th>4</th>\n",
              "      <td>I tried so hard to finish this, because I love...</td>\n",
              "      <td>1</td>\n",
              "    </tr>\n",
              "    <tr>\n",
              "      <th>5</th>\n",
              "      <td>I'm actually happy this book is the last in th...</td>\n",
              "      <td>3</td>\n",
              "    </tr>\n",
              "    <tr>\n",
              "      <th>6</th>\n",
              "      <td>I wanted to like this book. I really did. I ha...</td>\n",
              "      <td>1</td>\n",
              "    </tr>\n",
              "    <tr>\n",
              "      <th>7</th>\n",
              "      <td>Biographical verse novel about sculptor Mary E...</td>\n",
              "      <td>2</td>\n",
              "    </tr>\n",
              "    <tr>\n",
              "      <th>8</th>\n",
              "      <td>Mr. Nesbo takes a vacation \\n I have read all ...</td>\n",
              "      <td>2</td>\n",
              "    </tr>\n",
              "    <tr>\n",
              "      <th>9</th>\n",
              "      <td>This is not what I expected it to be. I didn't...</td>\n",
              "      <td>2</td>\n",
              "    </tr>\n",
              "  </tbody>\n",
              "</table>\n",
              "</div>"
            ],
            "text/plain": [
              "                                         review_text  rating\n",
              "0  Firstly, I stopped reading on page 76. This is...       1\n",
              "1  Can't really say I've enjoyed this book much -...       3\n",
              "2  This one simply was just not for me. The writi...       2\n",
              "3  I read this short story because I thought I ha...       3\n",
              "4  I tried so hard to finish this, because I love...       1\n",
              "5  I'm actually happy this book is the last in th...       3\n",
              "6  I wanted to like this book. I really did. I ha...       1\n",
              "7  Biographical verse novel about sculptor Mary E...       2\n",
              "8  Mr. Nesbo takes a vacation \\n I have read all ...       2\n",
              "9  This is not what I expected it to be. I didn't...       2"
            ]
          },
          "execution_count": 17,
          "metadata": {},
          "output_type": "execute_result"
        }
      ],
      "source": [
        "df_bal.head(10)"
      ]
    },
    {
      "cell_type": "code",
      "execution_count": null,
      "id": "829242eb-7092-4551-836e-72e17dc90577",
      "metadata": {
        "colab": {
          "base_uri": "https://localhost:8080/"
        },
        "id": "829242eb-7092-4551-836e-72e17dc90577",
        "outputId": "ed7c2e62-b40f-4f6d-bb5e-9d8f210611a6"
      },
      "outputs": [
        {
          "data": {
            "text/plain": [
              "(9617, 2)"
            ]
          },
          "execution_count": 14,
          "metadata": {},
          "output_type": "execute_result"
        }
      ],
      "source": [
        "#df = df_bal.head(50000)\n",
        "#df = df.head(50000)\n",
        "df.shape"
      ]
    },
    {
      "cell_type": "markdown",
      "id": "2CH_2wtKTZTt",
      "metadata": {
        "id": "2CH_2wtKTZTt"
      },
      "source": [
        "## BERT"
      ]
    },
    {
      "cell_type": "code",
      "execution_count": null,
      "id": "02nZ4MD1Ta7z",
      "metadata": {
        "id": "02nZ4MD1Ta7z"
      },
      "outputs": [],
      "source": [
        "import pandas as pd\n",
        "import numpy as np\n",
        "from tqdm import tqdm\n",
        "import re\n",
        "import time\n",
        "import pickle\n",
        "import random\n",
        "import torch\n",
        "from torch.utils.data import DataLoader, TensorDataset\n",
        "from transformers import DistilBertTokenizer, DistilBertModel"
      ]
    },
    {
      "cell_type": "code",
      "execution_count": null,
      "id": "cac564b6-9d4e-469e-8015-cc60f54d662c",
      "metadata": {
        "id": "cac564b6-9d4e-469e-8015-cc60f54d662c"
      },
      "outputs": [],
      "source": [
        "tokenizer = DistilBertTokenizer.from_pretrained('distilbert-base-uncased')\n",
        "model = DistilBertModel.from_pretrained('distilbert-base-uncased')"
      ]
    },
    {
      "cell_type": "code",
      "execution_count": null,
      "id": "tMytYDSTThqB",
      "metadata": {
        "id": "tMytYDSTThqB"
      },
      "outputs": [],
      "source": [
        "def tokenize_text(text):\n",
        "    encoding = tokenizer.encode_plus(\n",
        "        text,  # Single input text\n",
        "        padding='max_length',  # Pad to the maximum sequence length\n",
        "        truncation=True,  # Truncate to the maximum sequence length if necessary\n",
        "        return_tensors='pt',  # Return PyTorch tensors\n",
        "        add_special_tokens=True  # Add special tokens CLS and SEP\n",
        "    )\n",
        "    input_ids = encoding['input_ids']\n",
        "    attention_mask = encoding['attention_mask']\n",
        "\n",
        "    return input_ids.squeeze(), attention_mask.squeeze()"
      ]
    },
    {
      "cell_type": "code",
      "execution_count": null,
      "id": "01a6f580-1090-4a70-b065-8906529074a8",
      "metadata": {
        "id": "01a6f580-1090-4a70-b065-8906529074a8"
      },
      "outputs": [],
      "source": [
        "# Apply the function to the DataFrame\n",
        "eng_df['input_ids'], eng_df['attention_mask'] = zip(*eng_df['review_text'].map(tokenize_text))"
      ]
    },
    {
      "cell_type": "code",
      "execution_count": null,
      "id": "62fb0385-5be4-4120-aa11-44578558e63c",
      "metadata": {
        "id": "62fb0385-5be4-4120-aa11-44578558e63c"
      },
      "outputs": [],
      "source": [
        "batch_size = 64"
      ]
    },
    {
      "cell_type": "code",
      "execution_count": null,
      "id": "2a87df6b-762b-46c6-bf43-0c0932a74696",
      "metadata": {
        "id": "2a87df6b-762b-46c6-bf43-0c0932a74696"
      },
      "outputs": [],
      "source": [
        "def generate_embeddings(eng_df, batch_size):\n",
        "    all_embeddings = []\n",
        "    model.eval()\n",
        "    device = torch.device(\"cuda\" if torch.cuda.is_available() else \"cpu\")\n",
        "    model.to(device)\n",
        "    with torch.no_grad():\n",
        "        for i in tqdm(range(0, len(eng_df), batch_size), desc=\"Generating Embeddings\"):\n",
        "            batch_df = eng_df.iloc[i:i + batch_size]\n",
        "            input_ids = torch.stack([x for x in batch_df['input_ids'].values]).to(device)\n",
        "            attention_mask = torch.stack([x for x in batch_df['attention_mask'].values]).to(device)\n",
        "            outputs = model(input_ids=input_ids, attention_mask=attention_mask)\n",
        "            word_embeddings = outputs.last_hidden_state  # Get the embeddings from the last layer\n",
        "            averaged_embeddings = word_embeddings.mean(dim=1)  # Average the embeddings\n",
        "            all_embeddings.extend(averaged_embeddings.cpu().numpy())\n",
        "\n",
        "    return np.array(all_embeddings)"
      ]
    },
    {
      "cell_type": "code",
      "execution_count": null,
      "id": "b16fd86f-c116-4731-ae09-b2c17f0b8c4c",
      "metadata": {
        "id": "b16fd86f-c116-4731-ae09-b2c17f0b8c4c",
        "outputId": "6044da95-5b00-49a0-cd38-26e56597cd96"
      },
      "outputs": [
        {
          "name": "stderr",
          "output_type": "stream",
          "text": [
            "Generating Embeddings: 100%|████████████████| 1513/1513 [04:29<00:00,  5.62it/s]\n"
          ]
        }
      ],
      "source": [
        "# Generate embeddings for all reviews\n",
        "embeddings = generate_embeddings(eng_df, batch_size)"
      ]
    },
    {
      "cell_type": "code",
      "execution_count": null,
      "id": "628a717f-8482-496a-ad90-715028666033",
      "metadata": {
        "id": "628a717f-8482-496a-ad90-715028666033"
      },
      "outputs": [],
      "source": [
        "# Assign the embeddings back to the DataFrame\n",
        "eng_df['word_embeddings'] = list(embeddings)"
      ]
    },
    {
      "cell_type": "code",
      "execution_count": null,
      "id": "24ba56fa-461e-489d-b727-bf2ae288ab99",
      "metadata": {
        "id": "24ba56fa-461e-489d-b727-bf2ae288ab99"
      },
      "outputs": [],
      "source": [
        "import pickle\n",
        "\n",
        "with open('eng_df.pkl', 'wb') as f:\n",
        "    pickle.dump(eng_df, f)"
      ]
    },
    {
      "cell_type": "code",
      "execution_count": null,
      "id": "91dbfb79-f128-4e27-90a0-7d36b00e3c6a",
      "metadata": {
        "id": "91dbfb79-f128-4e27-90a0-7d36b00e3c6a",
        "outputId": "9a203413-0bb2-4f35-f569-bb8638735709"
      },
      "outputs": [
        {
          "data": {
            "text/html": [
              "<div>\n",
              "<style scoped>\n",
              "    .dataframe tbody tr th:only-of-type {\n",
              "        vertical-align: middle;\n",
              "    }\n",
              "\n",
              "    .dataframe tbody tr th {\n",
              "        vertical-align: top;\n",
              "    }\n",
              "\n",
              "    .dataframe thead th {\n",
              "        text-align: right;\n",
              "    }\n",
              "</style>\n",
              "<table border=\"1\" class=\"dataframe\">\n",
              "  <thead>\n",
              "    <tr style=\"text-align: right;\">\n",
              "      <th></th>\n",
              "      <th>review_text</th>\n",
              "      <th>rating</th>\n",
              "      <th>input_ids</th>\n",
              "      <th>attention_mask</th>\n",
              "      <th>word_embeddings</th>\n",
              "    </tr>\n",
              "  </thead>\n",
              "  <tbody>\n",
              "    <tr>\n",
              "      <th>0</th>\n",
              "      <td>Mind blowingly cool. Best science fiction I've...</td>\n",
              "      <td>5</td>\n",
              "      <td>[tensor(101), tensor(2568), tensor(11221), ten...</td>\n",
              "      <td>[tensor(1), tensor(1), tensor(1), tensor(1), t...</td>\n",
              "      <td>[0.07275456, 0.048345067, 0.069500506, 0.08391...</td>\n",
              "    </tr>\n",
              "    <tr>\n",
              "      <th>1</th>\n",
              "      <td>This is a special book. It started slow for ab...</td>\n",
              "      <td>5</td>\n",
              "      <td>[tensor(101), tensor(2023), tensor(2003), tens...</td>\n",
              "      <td>[tensor(1), tensor(1), tensor(1), tensor(1), t...</td>\n",
              "      <td>[-0.10508166, 0.044605456, 0.15093496, 0.08727...</td>\n",
              "    </tr>\n",
              "    <tr>\n",
              "      <th>2</th>\n",
              "      <td>I haven't read a fun mystery book in a while a...</td>\n",
              "      <td>3</td>\n",
              "      <td>[tensor(101), tensor(1045), tensor(4033), tens...</td>\n",
              "      <td>[tensor(1), tensor(1), tensor(1), tensor(1), t...</td>\n",
              "      <td>[0.09070881, 0.02698918, 0.079526536, 0.053992...</td>\n",
              "    </tr>\n",
              "    <tr>\n",
              "      <th>3</th>\n",
              "      <td>Fun, fast paced, and disturbing tale of murder...</td>\n",
              "      <td>4</td>\n",
              "      <td>[tensor(101), tensor(4569), tensor(1010), tens...</td>\n",
              "      <td>[tensor(1), tensor(1), tensor(1), tensor(1), t...</td>\n",
              "      <td>[0.12166318, 0.026309181, 0.16683182, 0.057287...</td>\n",
              "    </tr>\n",
              "    <tr>\n",
              "      <th>4</th>\n",
              "      <td>A fun book that gives you a sense of living in...</td>\n",
              "      <td>4</td>\n",
              "      <td>[tensor(101), tensor(1037), tensor(4569), tens...</td>\n",
              "      <td>[tensor(1), tensor(1), tensor(1), tensor(1), t...</td>\n",
              "      <td>[0.12523821, 0.0054550497, 0.047890987, 0.1243...</td>\n",
              "    </tr>\n",
              "  </tbody>\n",
              "</table>\n",
              "</div>"
            ],
            "text/plain": [
              "                                         review_text  rating  \\\n",
              "0  Mind blowingly cool. Best science fiction I've...       5   \n",
              "1  This is a special book. It started slow for ab...       5   \n",
              "2  I haven't read a fun mystery book in a while a...       3   \n",
              "3  Fun, fast paced, and disturbing tale of murder...       4   \n",
              "4  A fun book that gives you a sense of living in...       4   \n",
              "\n",
              "                                           input_ids  \\\n",
              "0  [tensor(101), tensor(2568), tensor(11221), ten...   \n",
              "1  [tensor(101), tensor(2023), tensor(2003), tens...   \n",
              "2  [tensor(101), tensor(1045), tensor(4033), tens...   \n",
              "3  [tensor(101), tensor(4569), tensor(1010), tens...   \n",
              "4  [tensor(101), tensor(1037), tensor(4569), tens...   \n",
              "\n",
              "                                      attention_mask  \\\n",
              "0  [tensor(1), tensor(1), tensor(1), tensor(1), t...   \n",
              "1  [tensor(1), tensor(1), tensor(1), tensor(1), t...   \n",
              "2  [tensor(1), tensor(1), tensor(1), tensor(1), t...   \n",
              "3  [tensor(1), tensor(1), tensor(1), tensor(1), t...   \n",
              "4  [tensor(1), tensor(1), tensor(1), tensor(1), t...   \n",
              "\n",
              "                                     word_embeddings  \n",
              "0  [0.07275456, 0.048345067, 0.069500506, 0.08391...  \n",
              "1  [-0.10508166, 0.044605456, 0.15093496, 0.08727...  \n",
              "2  [0.09070881, 0.02698918, 0.079526536, 0.053992...  \n",
              "3  [0.12166318, 0.026309181, 0.16683182, 0.057287...  \n",
              "4  [0.12523821, 0.0054550497, 0.047890987, 0.1243...  "
            ]
          },
          "execution_count": 23,
          "metadata": {},
          "output_type": "execute_result"
        }
      ],
      "source": [
        "eng_df.head()"
      ]
    }
  ],
  "metadata": {
    "accelerator": "GPU",
    "colab": {
      "gpuType": "A100",
      "provenance": [],
      "machine_shape": "hm"
    },
    "kernelspec": {
      "display_name": "My Custom Env",
      "language": "python",
      "name": "pytorch_env"
    },
    "language_info": {
      "codemirror_mode": {
        "name": "ipython",
        "version": 3
      },
      "file_extension": ".py",
      "mimetype": "text/x-python",
      "name": "python",
      "nbconvert_exporter": "python",
      "pygments_lexer": "ipython3",
      "version": "3.12.4"
    }
  },
  "nbformat": 4,
  "nbformat_minor": 5
}